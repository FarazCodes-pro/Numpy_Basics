{
  "cells": [
    {
      "cell_type": "markdown",
      "metadata": {
        "id": "0Jdf3ZMGWnYb"
      },
      "source": [
        "## What is Numpy?\n",
        "NumPy is a Python library used for working with arrays. It also has functions for working in domain of linear algebra, fourier transform, and matrices.It is used for scientific computing i.e. engineering mathematics. Most important thing in this is Numpy array."
      ]
    },
    {
      "cell_type": "markdown",
      "metadata": {
        "id": "SUc7mAjWdicN"
      },
      "source": [
        "## Creating Numpy Arrays:\n",
        "* np.array([])\n",
        "* np.arange()\n",
        "* np.arrange().reshape()\n",
        "* np.ones(())\n",
        "* np.zeros(())\n",
        "* np.random.random()\n",
        "* np.linspace()\n",
        "* np.identity()"
      ]
    },
    {
      "cell_type": "code",
      "execution_count": null,
      "metadata": {
        "colab": {
          "base_uri": "https://localhost:8080/"
        },
        "id": "o_u3skAheypv",
        "outputId": "bd985afe-d840-4362-9a15-7900ed42bb8b"
      },
      "outputs": [
        {
          "output_type": "stream",
          "name": "stdout",
          "text": [
            "[1 2 3 4 5]\n"
          ]
        }
      ],
      "source": [
        "import numpy as np\n",
        "#create a 1D array using np.array\n",
        "arr = np.array([1,2,3,4,5])\n",
        "print(arr)"
      ]
    },
    {
      "cell_type": "code",
      "execution_count": null,
      "metadata": {
        "colab": {
          "base_uri": "https://localhost:8080/"
        },
        "id": "Knm9r1sxf023",
        "outputId": "c6f22686-5c56-4eb5-b88a-07006289df4d"
      },
      "outputs": [
        {
          "name": "stdout",
          "output_type": "stream",
          "text": [
            "[ 1  2  3  4  5  6  7  8  9 10]\n",
            "[1 3 5 7 9]\n"
          ]
        }
      ],
      "source": [
        "#creating array using arange function\n",
        "arr2 = np.arange(1,11)\n",
        "print(arr2)\n",
        "arr3 = np.arange(1,11,2)\n",
        "print(arr3)"
      ]
    },
    {
      "cell_type": "code",
      "execution_count": null,
      "metadata": {
        "colab": {
          "base_uri": "https://localhost:8080/"
        },
        "id": "8HmTbEw-h-fQ",
        "outputId": "20d0eebe-dec6-4a17-d003-6ec03366eba3"
      },
      "outputs": [
        {
          "name": "stdout",
          "output_type": "stream",
          "text": [
            "[[1 2 3]\n",
            " [4 5 6]\n",
            " [7 8 9]]\n"
          ]
        }
      ],
      "source": [
        "#creating 2D array\n",
        "matrix = np.array([[1,2,3],[4,5,6],[7,8,9]])\n",
        "print(matrix)"
      ]
    },
    {
      "cell_type": "code",
      "execution_count": null,
      "metadata": {
        "colab": {
          "base_uri": "https://localhost:8080/"
        },
        "id": "kwRdT52Fiove",
        "outputId": "d91ba51f-0997-4960-be63-8501f73b0014"
      },
      "outputs": [
        {
          "name": "stdout",
          "output_type": "stream",
          "text": [
            "[[ 1  2  3  4  5  6  7]\n",
            " [ 8  9 10 11 12 13 14]]\n"
          ]
        }
      ],
      "source": [
        "#creating 2D array using arange function\n",
        "matrix2 = np.arange(1,15).reshape(2,7)\n",
        "print(matrix2)"
      ]
    },
    {
      "cell_type": "code",
      "execution_count": null,
      "metadata": {
        "colab": {
          "base_uri": "https://localhost:8080/"
        },
        "id": "kYsBOpQXhUeq",
        "outputId": "565bdc9f-920d-4164-f02d-32b05960155e"
      },
      "outputs": [
        {
          "name": "stdout",
          "output_type": "stream",
          "text": [
            "[[ 1  2  3  4]\n",
            " [ 5  6  7  8]\n",
            " [ 9 10 11 12]]\n"
          ]
        }
      ],
      "source": [
        "arr4 = np.arange(1,13).reshape(3,4)\n",
        "print(arr4)"
      ]
    },
    {
      "cell_type": "code",
      "execution_count": null,
      "metadata": {
        "colab": {
          "base_uri": "https://localhost:8080/"
        },
        "id": "x7xKe9Zwneqk",
        "outputId": "ca7b99a7-ed07-4624-c365-265d508bbf2f"
      },
      "outputs": [
        {
          "data": {
            "text/plain": [
              "array([[1., 1., 1., 1.],\n",
              "       [1., 1., 1., 1.],\n",
              "       [1., 1., 1., 1.]])"
            ]
          },
          "execution_count": 18,
          "metadata": {},
          "output_type": "execute_result"
        }
      ],
      "source": [
        "#creating unit matrix using ones function\n",
        "arr5 = np.ones((3,4))\n",
        "arr5"
      ]
    },
    {
      "cell_type": "code",
      "execution_count": null,
      "metadata": {
        "colab": {
          "base_uri": "https://localhost:8080/"
        },
        "id": "OFmRFDPuoguq",
        "outputId": "fcff283e-e186-4b7d-b7d5-5e843abdb86c"
      },
      "outputs": [
        {
          "data": {
            "text/plain": [
              "array([[1, 1, 1],\n",
              "       [1, 1, 1],\n",
              "       [1, 1, 1]])"
            ]
          },
          "execution_count": 19,
          "metadata": {},
          "output_type": "execute_result"
        }
      ],
      "source": [
        "#changing data type of an array using dtype (default dtype is float)\n",
        "arr6 = np.ones((3,3),dtype=int)\n",
        "arr6"
      ]
    },
    {
      "cell_type": "code",
      "execution_count": null,
      "metadata": {
        "colab": {
          "base_uri": "https://localhost:8080/"
        },
        "id": "WYRPlsZCo7sr",
        "outputId": "1d7bae0c-200a-4a50-ef7e-4bc559f765e1"
      },
      "outputs": [
        {
          "data": {
            "text/plain": [
              "array([[0, 0, 0, 0],\n",
              "       [0, 0, 0, 0],\n",
              "       [0, 0, 0, 0],\n",
              "       [0, 0, 0, 0]])"
            ]
          },
          "execution_count": 23,
          "metadata": {},
          "output_type": "execute_result"
        }
      ],
      "source": [
        "#creating null matrix using zeroes function\n",
        "arr7 = np.zeros((4,4),dtype = int)\n",
        "arr7"
      ]
    },
    {
      "cell_type": "code",
      "execution_count": null,
      "metadata": {
        "colab": {
          "base_uri": "https://localhost:8080/"
        },
        "id": "gWzNQ2dSpuUU",
        "outputId": "c3416b7f-10b9-4c9d-8e8d-1c7450d4a216"
      },
      "outputs": [
        {
          "output_type": "execute_result",
          "data": {
            "text/plain": [
              "array([[0.4653838 , 0.01745481, 0.48699127, 0.62219702],\n",
              "       [0.079835  , 0.99289366, 0.48896102, 0.85342538]])"
            ]
          },
          "metadata": {},
          "execution_count": 4
        }
      ],
      "source": [
        "#creating a 2*4 matrix with random float numbers\n",
        "arr8 = np.random.random((2,4))\n",
        "arr8"
      ]
    },
    {
      "cell_type": "code",
      "source": [
        "#size attributes specify the order & 0,100 gives the range of numbers\n",
        "arr9 = np.random.randint(0,100,size=(3,4))\n",
        "print(arr9)"
      ],
      "metadata": {
        "colab": {
          "base_uri": "https://localhost:8080/"
        },
        "id": "aZ9ZDIvu8QGs",
        "outputId": "0af3cc93-19d5-44af-9fab-1480fa4d40e9"
      },
      "execution_count": null,
      "outputs": [
        {
          "output_type": "stream",
          "name": "stdout",
          "text": [
            "[[99 64 93  1]\n",
            " [99 30 29  4]\n",
            " [74 46 10 28]]\n"
          ]
        }
      ]
    },
    {
      "cell_type": "code",
      "source": [
        "#The np.linspace function in NumPy is used to generate\n",
        "#an array of evenly spaced values over a specified range\n",
        "arr10 = np.linspace(0,10,4)\n",
        "print(arr10)"
      ],
      "metadata": {
        "colab": {
          "base_uri": "https://localhost:8080/"
        },
        "id": "P-PPcCoY9Eoo",
        "outputId": "2ce9bf91-c6d4-4429-a1f9-07591037382c"
      },
      "execution_count": null,
      "outputs": [
        {
          "output_type": "stream",
          "name": "stdout",
          "text": [
            "[ 0.          3.33333333  6.66666667 10.        ]\n"
          ]
        }
      ]
    },
    {
      "cell_type": "code",
      "source": [
        "arr10 = np.linspace(0,10,4,dtype=int)\n",
        "print(arr10)"
      ],
      "metadata": {
        "colab": {
          "base_uri": "https://localhost:8080/"
        },
        "id": "ff9iuEYw-lHL",
        "outputId": "a5a12fbc-9373-434b-cd95-efbf290ede68"
      },
      "execution_count": null,
      "outputs": [
        {
          "output_type": "stream",
          "name": "stdout",
          "text": [
            "[ 0  3  6 10]\n"
          ]
        }
      ]
    },
    {
      "cell_type": "code",
      "source": [
        "#creating an identity matrix\n",
        "arr11 = np.identity(5)\n",
        "print(arr11)"
      ],
      "metadata": {
        "colab": {
          "base_uri": "https://localhost:8080/"
        },
        "id": "Ya2xIuGm-3I6",
        "outputId": "0db38f39-a4be-4960-8fb9-49339b356dbd"
      },
      "execution_count": null,
      "outputs": [
        {
          "output_type": "stream",
          "name": "stdout",
          "text": [
            "[[1. 0. 0. 0. 0.]\n",
            " [0. 1. 0. 0. 0.]\n",
            " [0. 0. 1. 0. 0.]\n",
            " [0. 0. 0. 1. 0.]\n",
            " [0. 0. 0. 0. 1.]]\n"
          ]
        }
      ]
    },
    {
      "cell_type": "markdown",
      "metadata": {
        "id": "TmzBwqp0jivq"
      },
      "source": [
        "## Array Attributes\n",
        "* ndim\n",
        "* shape\n",
        "* size\n",
        "* itemsize\n",
        "* dtype\n",
        "* astype(np.int32)\n"
      ]
    },
    {
      "cell_type": "code",
      "source": [
        "Ar1 = np.arange(10,dtype = int) #1D array\n",
        "Ar2 = np.arange(16, dtype = int).reshape(4,4) #2D array\n",
        "Ar3 = np.arange(8,dtype=int).reshape(2,2,2) #3D array\n",
        "print(Ar1)\n",
        "print(Ar2)\n",
        "print(Ar3)"
      ],
      "metadata": {
        "colab": {
          "base_uri": "https://localhost:8080/"
        },
        "id": "SjHhiAMgDpsC",
        "outputId": "79242cf2-377d-460c-aa32-2bfbbd6dff10"
      },
      "execution_count": null,
      "outputs": [
        {
          "output_type": "stream",
          "name": "stdout",
          "text": [
            "[0 1 2 3 4 5 6 7 8 9]\n",
            "[[ 0  1  2  3]\n",
            " [ 4  5  6  7]\n",
            " [ 8  9 10 11]\n",
            " [12 13 14 15]]\n",
            "[[[0 1]\n",
            "  [2 3]]\n",
            "\n",
            " [[4 5]\n",
            "  [6 7]]]\n"
          ]
        }
      ]
    },
    {
      "cell_type": "code",
      "source": [
        "#ndim: returns the number of dimensions (axes) of the array.\n",
        "print(np.ndim(Ar3))\n",
        "print(np.ndim(Ar2))\n",
        "print(np.ndim(Ar1))"
      ],
      "metadata": {
        "colab": {
          "base_uri": "https://localhost:8080/"
        },
        "id": "Y9AyqJ-X_59r",
        "outputId": "3b4e0d37-a8d7-4d8b-d877-0ea93f668415"
      },
      "execution_count": null,
      "outputs": [
        {
          "output_type": "stream",
          "name": "stdout",
          "text": [
            "3\n",
            "2\n",
            "1\n"
          ]
        }
      ]
    },
    {
      "cell_type": "code",
      "source": [
        "#shape: returns a tuple representing the dimensions of the array (rows, columns).\n",
        "print(Ar2)\n",
        "print(Ar2.shape)"
      ],
      "metadata": {
        "colab": {
          "base_uri": "https://localhost:8080/"
        },
        "id": "pssMWCjfYdph",
        "outputId": "ec56e52a-0a62-45fb-99fa-d7ba6bbaf9d8"
      },
      "execution_count": null,
      "outputs": [
        {
          "output_type": "stream",
          "name": "stdout",
          "text": [
            "[[ 0  1  2  3]\n",
            " [ 4  5  6  7]\n",
            " [ 8  9 10 11]\n",
            " [12 13 14 15]]\n",
            "(4, 4)\n"
          ]
        }
      ]
    },
    {
      "cell_type": "code",
      "source": [
        "#size: returns the total number of elements in the array.\n",
        "print(Ar2.size)"
      ],
      "metadata": {
        "colab": {
          "base_uri": "https://localhost:8080/"
        },
        "id": "GYXDWEUFYdl3",
        "outputId": "86473451-89da-4efa-b796-1950143bb7ac"
      },
      "execution_count": null,
      "outputs": [
        {
          "output_type": "stream",
          "name": "stdout",
          "text": [
            "16\n"
          ]
        }
      ]
    },
    {
      "cell_type": "code",
      "source": [
        "#itemsize: returns the size (in bytes) of each element in the array.\n",
        "print(Ar2.itemsize)"
      ],
      "metadata": {
        "colab": {
          "base_uri": "https://localhost:8080/"
        },
        "id": "XiBtHn0jYdNK",
        "outputId": "8b0a31fb-4073-4854-d7ad-3c61de6886f1"
      },
      "execution_count": null,
      "outputs": [
        {
          "output_type": "stream",
          "name": "stdout",
          "text": [
            "8\n"
          ]
        }
      ]
    },
    {
      "cell_type": "code",
      "source": [
        "#dtype: eturns the data type of the array elements.\n",
        "print(Ar2.dtype)"
      ],
      "metadata": {
        "colab": {
          "base_uri": "https://localhost:8080/"
        },
        "id": "jAStbmvbaDqu",
        "outputId": "5afe87e8-dbed-49d3-b0eb-7444f50694a2"
      },
      "execution_count": null,
      "outputs": [
        {
          "output_type": "stream",
          "name": "stdout",
          "text": [
            "int64\n"
          ]
        }
      ]
    },
    {
      "cell_type": "code",
      "source": [
        "#astype(): Converts the array to a specified data type.\n",
        "#It creates a new array with the desired type without\n",
        "#modifying the original array.\n",
        "new_Ar2 = Ar2.astype(float)\n",
        "print(new_Ar2,new_Ar2.dtype)"
      ],
      "metadata": {
        "colab": {
          "base_uri": "https://localhost:8080/"
        },
        "id": "RgxRnmTnaDeR",
        "outputId": "965cd9ba-6320-49e1-a27a-87480cb6088f"
      },
      "execution_count": null,
      "outputs": [
        {
          "output_type": "stream",
          "name": "stdout",
          "text": [
            "[[ 0.  1.  2.  3.]\n",
            " [ 4.  5.  6.  7.]\n",
            " [ 8.  9. 10. 11.]\n",
            " [12. 13. 14. 15.]] float64\n"
          ]
        }
      ]
    },
    {
      "cell_type": "markdown",
      "metadata": {
        "id": "LWgsApipm4XE"
      },
      "source": [
        "## Array Operations\n",
        "* Scalar Operations\n",
        "* Arithmetic Operations\n",
        "* Relational Operations\n",
        "* Vector Operations"
      ]
    },
    {
      "cell_type": "code",
      "source": [
        "matrix1 = np.arange(1,13).reshape(4,3)\n",
        "matrix2 = np.arange(13,25).reshape(4,3)\n",
        "print(matrix1)\n",
        "print(matrix2)"
      ],
      "metadata": {
        "colab": {
          "base_uri": "https://localhost:8080/"
        },
        "id": "UgB_IkvIcb4z",
        "outputId": "468ccfd1-0e11-4a0d-8e65-eeeb3fd9bff4"
      },
      "execution_count": null,
      "outputs": [
        {
          "output_type": "stream",
          "name": "stdout",
          "text": [
            "[[ 1  2  3]\n",
            " [ 4  5  6]\n",
            " [ 7  8  9]\n",
            " [10 11 12]]\n",
            "[[13 14 15]\n",
            " [16 17 18]\n",
            " [19 20 21]\n",
            " [22 23 24]]\n"
          ]
        }
      ]
    },
    {
      "cell_type": "code",
      "source": [
        "#scalar operations\n",
        "print(matrix1 + 3)"
      ],
      "metadata": {
        "colab": {
          "base_uri": "https://localhost:8080/"
        },
        "id": "uy9mGbqfcbzj",
        "outputId": "aad7096d-0d39-4171-8e30-c3edfb7f03a4"
      },
      "execution_count": null,
      "outputs": [
        {
          "output_type": "stream",
          "name": "stdout",
          "text": [
            "[[ 4  5  6]\n",
            " [ 7  8  9]\n",
            " [10 11 12]\n",
            " [13 14 15]]\n"
          ]
        }
      ]
    },
    {
      "cell_type": "code",
      "source": [
        "print(matrix2 - 3)"
      ],
      "metadata": {
        "colab": {
          "base_uri": "https://localhost:8080/"
        },
        "id": "ZxW_nQ1ccbrK",
        "outputId": "9f9f4afe-48d9-4905-ef17-ce5e43a05fb4"
      },
      "execution_count": null,
      "outputs": [
        {
          "output_type": "stream",
          "name": "stdout",
          "text": [
            "[[10 11 12]\n",
            " [13 14 15]\n",
            " [16 17 18]\n",
            " [19 20 21]]\n"
          ]
        }
      ]
    },
    {
      "cell_type": "code",
      "source": [
        "print(matrix1*2)"
      ],
      "metadata": {
        "colab": {
          "base_uri": "https://localhost:8080/"
        },
        "id": "dQvW-ce5cbmH",
        "outputId": "9ceedf72-7af9-42bb-cab6-3546dc7e95f0"
      },
      "execution_count": null,
      "outputs": [
        {
          "output_type": "stream",
          "name": "stdout",
          "text": [
            "[[ 2  4  6]\n",
            " [ 8 10 12]\n",
            " [14 16 18]\n",
            " [20 22 24]]\n"
          ]
        }
      ]
    },
    {
      "cell_type": "code",
      "source": [
        "print(matrix1 / 2)"
      ],
      "metadata": {
        "colab": {
          "base_uri": "https://localhost:8080/"
        },
        "id": "L-cAO7mUcbf-",
        "outputId": "032ceba1-6127-440a-a63a-e81c7e92e535"
      },
      "execution_count": null,
      "outputs": [
        {
          "output_type": "stream",
          "name": "stdout",
          "text": [
            "[[0.5 1.  1.5]\n",
            " [2.  2.5 3. ]\n",
            " [3.5 4.  4.5]\n",
            " [5.  5.5 6. ]]\n"
          ]
        }
      ]
    },
    {
      "cell_type": "code",
      "source": [
        "print(matrix1**2)"
      ],
      "metadata": {
        "colab": {
          "base_uri": "https://localhost:8080/"
        },
        "id": "BdUZRNsWf8wf",
        "outputId": "612bd532-ee28-46b4-e76c-1921ae7ba233"
      },
      "execution_count": null,
      "outputs": [
        {
          "output_type": "stream",
          "name": "stdout",
          "text": [
            "[[  1   4   9]\n",
            " [ 16  25  36]\n",
            " [ 49  64  81]\n",
            " [100 121 144]]\n"
          ]
        }
      ]
    },
    {
      "cell_type": "code",
      "source": [
        "print(matrix1 % 2)"
      ],
      "metadata": {
        "colab": {
          "base_uri": "https://localhost:8080/"
        },
        "id": "FdHiS0GZf8sJ",
        "outputId": "405550a0-1cc3-4bdd-c09a-7be13ce6de69"
      },
      "execution_count": null,
      "outputs": [
        {
          "output_type": "stream",
          "name": "stdout",
          "text": [
            "[[1 0 1]\n",
            " [0 1 0]\n",
            " [1 0 1]\n",
            " [0 1 0]]\n"
          ]
        }
      ]
    },
    {
      "cell_type": "code",
      "source": [
        "#arithmetic operations\n",
        "print(matrix1 + matrix2)"
      ],
      "metadata": {
        "colab": {
          "base_uri": "https://localhost:8080/"
        },
        "id": "vAeUoMxFgUnF",
        "outputId": "503255b7-5efb-4cfd-8253-08976aee72a7"
      },
      "execution_count": null,
      "outputs": [
        {
          "output_type": "stream",
          "name": "stdout",
          "text": [
            "[[14 16 18]\n",
            " [20 22 24]\n",
            " [26 28 30]\n",
            " [32 34 36]]\n"
          ]
        }
      ]
    },
    {
      "cell_type": "code",
      "source": [
        "print(matrix1 % matrix2)"
      ],
      "metadata": {
        "colab": {
          "base_uri": "https://localhost:8080/"
        },
        "id": "m-iDctyUg0Z1",
        "outputId": "4acd551b-52c7-4158-e4b9-da0b04471a88"
      },
      "execution_count": null,
      "outputs": [
        {
          "output_type": "stream",
          "name": "stdout",
          "text": [
            "[[ 1  2  3]\n",
            " [ 4  5  6]\n",
            " [ 7  8  9]\n",
            " [10 11 12]]\n"
          ]
        }
      ]
    },
    {
      "cell_type": "code",
      "source": [
        "#relational operations\n",
        "equal = matrix1 > 5\n",
        "print(equal)"
      ],
      "metadata": {
        "colab": {
          "base_uri": "https://localhost:8080/"
        },
        "id": "cfJj-eyshWUi",
        "outputId": "ad60cac8-465e-4143-e758-1bfc468d3aee"
      },
      "execution_count": null,
      "outputs": [
        {
          "output_type": "stream",
          "name": "stdout",
          "text": [
            "[[False False False]\n",
            " [False False  True]\n",
            " [ True  True  True]\n",
            " [ True  True  True]]\n"
          ]
        }
      ]
    },
    {
      "cell_type": "code",
      "source": [
        "greater = matrix2 > 20\n",
        "print(greater)"
      ],
      "metadata": {
        "colab": {
          "base_uri": "https://localhost:8080/"
        },
        "id": "wDe9c2Tbi-0G",
        "outputId": "a5ec48ae-5ba3-4d45-82b2-6235d4f98109"
      },
      "execution_count": null,
      "outputs": [
        {
          "output_type": "stream",
          "name": "stdout",
          "text": [
            "[[False False False]\n",
            " [False False False]\n",
            " [False False  True]\n",
            " [ True  True  True]]\n"
          ]
        }
      ]
    },
    {
      "cell_type": "code",
      "source": [
        "#vector operations (1D array)\n",
        "vector = np.array([3,7,9])\n",
        "#calculating magnitude of vector\n",
        "magnitude = np.linalg.norm(vector)\n",
        "print(magnitude)"
      ],
      "metadata": {
        "colab": {
          "base_uri": "https://localhost:8080/"
        },
        "id": "-d-inmHeltaU",
        "outputId": "6de966ab-f235-407d-db26-c8828eeff71f"
      },
      "execution_count": null,
      "outputs": [
        {
          "output_type": "stream",
          "name": "stdout",
          "text": [
            "11.789826122551595\n"
          ]
        }
      ]
    },
    {
      "cell_type": "code",
      "source": [
        "#dot product or matrix multiplication\n",
        "matrix1 = np.arange(1,13).reshape(4,3)\n",
        "matrix2 = np.arange(13,25).reshape(3,4)\n",
        "result  = np.dot(matrix1,matrix2)\n",
        "print(result)"
      ],
      "metadata": {
        "colab": {
          "base_uri": "https://localhost:8080/"
        },
        "id": "6fCReDpBpDZH",
        "outputId": "f38b04cb-9005-4e99-d40b-321d6c6608da"
      },
      "execution_count": null,
      "outputs": [
        {
          "output_type": "stream",
          "name": "stdout",
          "text": [
            "[[110 116 122 128]\n",
            " [263 278 293 308]\n",
            " [416 440 464 488]\n",
            " [569 602 635 668]]\n"
          ]
        }
      ]
    },
    {
      "cell_type": "markdown",
      "metadata": {
        "id": "MoOI3f_rntXD"
      },
      "source": [
        "\n",
        "## Array Functions\n",
        "* max/min/sum/prod\n",
        "* mean/median/std/var\n",
        "* trigonometric functions\n",
        "* dot product\n",
        "* log & exponents\n",
        "* round/floor/ceil"
      ]
    },
    {
      "cell_type": "code",
      "source": [
        "matrix1"
      ],
      "metadata": {
        "colab": {
          "base_uri": "https://localhost:8080/"
        },
        "id": "_BNScxbgplfn",
        "outputId": "36f8677f-5be0-43c5-9b38-0c9465b7c30b"
      },
      "execution_count": null,
      "outputs": [
        {
          "output_type": "execute_result",
          "data": {
            "text/plain": [
              "array([[ 1,  2,  3],\n",
              "       [ 4,  5,  6],\n",
              "       [ 7,  8,  9],\n",
              "       [10, 11, 12]])"
            ]
          },
          "metadata": {},
          "execution_count": 44
        }
      ]
    },
    {
      "cell_type": "code",
      "source": [
        "#max: returns the maximum value of the array elements.\n",
        "print(np.max(matrix1))\n",
        "print(np.max(matrix1,axis=1)) #axix=1, return max of rows"
      ],
      "metadata": {
        "colab": {
          "base_uri": "https://localhost:8080/"
        },
        "id": "2P6d6ymlplbJ",
        "outputId": "9cab95ec-4912-4596-a9e1-cd509b0e255f"
      },
      "execution_count": null,
      "outputs": [
        {
          "output_type": "stream",
          "name": "stdout",
          "text": [
            "12\n",
            "[ 3  6  9 12]\n"
          ]
        }
      ]
    },
    {
      "cell_type": "code",
      "source": [
        "#min: returns the minimum value of the array elements.\n",
        "print(np.min(matrix1))\n",
        "print(np.min(matrix1,axis=0)) #axis=0, return min of columns"
      ],
      "metadata": {
        "colab": {
          "base_uri": "https://localhost:8080/"
        },
        "id": "EnnTboFoplWx",
        "outputId": "9e694239-030f-4c6b-dd68-1898da1413c8"
      },
      "execution_count": null,
      "outputs": [
        {
          "output_type": "stream",
          "name": "stdout",
          "text": [
            "1\n",
            "[1 2 3]\n"
          ]
        }
      ]
    },
    {
      "cell_type": "code",
      "source": [
        "#sum: computes the sum of all elements in the array"
      ],
      "metadata": {
        "id": "Ftacp4vMplSJ"
      },
      "execution_count": null,
      "outputs": []
    },
    {
      "cell_type": "code",
      "source": [
        "np.sum(matrix1)"
      ],
      "metadata": {
        "colab": {
          "base_uri": "https://localhost:8080/"
        },
        "id": "CZW3CO--plM1",
        "outputId": "49b7482f-15bd-441a-d318-280b8e468b60"
      },
      "execution_count": null,
      "outputs": [
        {
          "output_type": "execute_result",
          "data": {
            "text/plain": [
              "78"
            ]
          },
          "metadata": {},
          "execution_count": 50
        }
      ]
    },
    {
      "cell_type": "code",
      "source": [
        "#prod: computes the product of all elements in the array.\n",
        "np.prod(matrix1)"
      ],
      "metadata": {
        "colab": {
          "base_uri": "https://localhost:8080/"
        },
        "id": "4Ku2XN1HplIn",
        "outputId": "b90b3f9f-27c5-4fac-bbb0-34eaddb351c0"
      },
      "execution_count": null,
      "outputs": [
        {
          "output_type": "execute_result",
          "data": {
            "text/plain": [
              "479001600"
            ]
          },
          "metadata": {},
          "execution_count": 51
        }
      ]
    },
    {
      "cell_type": "code",
      "source": [
        "#mean/median/standard deviation/variance\n",
        "print(np.mean(matrix1))\n",
        "print(np.median(matrix1))\n",
        "print(np.std(matrix1))\n",
        "print(np.var(matrix1))"
      ],
      "metadata": {
        "colab": {
          "base_uri": "https://localhost:8080/"
        },
        "id": "5SGMauGcT9aW",
        "outputId": "d98c0d62-519d-47f9-a2fb-9f1ff52ef516"
      },
      "execution_count": null,
      "outputs": [
        {
          "output_type": "stream",
          "name": "stdout",
          "text": [
            "6.5\n",
            "6.5\n",
            "3.452052529534663\n",
            "11.916666666666666\n"
          ]
        }
      ]
    },
    {
      "cell_type": "code",
      "source": [
        "#trigonometric functions\n",
        "np.cos(matrix1)"
      ],
      "metadata": {
        "colab": {
          "base_uri": "https://localhost:8080/"
        },
        "id": "ZQW6aXvYWQAH",
        "outputId": "6b690196-0537-49bf-f925-e4de9c539b02"
      },
      "execution_count": null,
      "outputs": [
        {
          "output_type": "execute_result",
          "data": {
            "text/plain": [
              "array([[ 0.54030231, -0.41614684, -0.9899925 ],\n",
              "       [-0.65364362,  0.28366219,  0.96017029],\n",
              "       [ 0.75390225, -0.14550003, -0.91113026],\n",
              "       [-0.83907153,  0.0044257 ,  0.84385396]])"
            ]
          },
          "metadata": {},
          "execution_count": 5
        }
      ]
    },
    {
      "cell_type": "code",
      "source": [
        "#log & exponents"
      ],
      "metadata": {
        "id": "KvYEEXhLWP7t"
      },
      "execution_count": null,
      "outputs": []
    },
    {
      "cell_type": "code",
      "source": [
        "print(matrix1)\n",
        "np.log(matrix1)"
      ],
      "metadata": {
        "colab": {
          "base_uri": "https://localhost:8080/"
        },
        "id": "QdHcQVDLWP3A",
        "outputId": "3872d8d7-37a1-4a3e-ed2e-5c763e67c11a"
      },
      "execution_count": null,
      "outputs": [
        {
          "output_type": "stream",
          "name": "stdout",
          "text": [
            "[[ 1  2  3]\n",
            " [ 4  5  6]\n",
            " [ 7  8  9]\n",
            " [10 11 12]]\n"
          ]
        },
        {
          "output_type": "execute_result",
          "data": {
            "text/plain": [
              "array([[0.        , 0.69314718, 1.09861229],\n",
              "       [1.38629436, 1.60943791, 1.79175947],\n",
              "       [1.94591015, 2.07944154, 2.19722458],\n",
              "       [2.30258509, 2.39789527, 2.48490665]])"
            ]
          },
          "metadata": {},
          "execution_count": 7
        }
      ]
    },
    {
      "cell_type": "code",
      "source": [
        "#Calculates the exponential of all elements in the array.\n",
        "#The base is e (Euler's number, approximately 2.718).\n",
        "np.exp(matrix1)"
      ],
      "metadata": {
        "colab": {
          "base_uri": "https://localhost:8080/"
        },
        "id": "i10kIw_midE9",
        "outputId": "0cc93d30-133a-40e1-a680-ca8461304976"
      },
      "execution_count": null,
      "outputs": [
        {
          "output_type": "execute_result",
          "data": {
            "text/plain": [
              "array([[2.71828183e+00, 7.38905610e+00, 2.00855369e+01],\n",
              "       [5.45981500e+01, 1.48413159e+02, 4.03428793e+02],\n",
              "       [1.09663316e+03, 2.98095799e+03, 8.10308393e+03],\n",
              "       [2.20264658e+04, 5.98741417e+04, 1.62754791e+05]])"
            ]
          },
          "metadata": {},
          "execution_count": 8
        }
      ]
    },
    {
      "cell_type": "code",
      "source": [
        "#exp2: Calculates 2^x for all elements in the array.\n",
        "np.exp2(matrix1)\n"
      ],
      "metadata": {
        "colab": {
          "base_uri": "https://localhost:8080/"
        },
        "id": "UUF2ZnQFir_D",
        "outputId": "33f4e69e-cccb-4fae-93c9-7c83482213e1"
      },
      "execution_count": null,
      "outputs": [
        {
          "output_type": "execute_result",
          "data": {
            "text/plain": [
              "array([[2.000e+00, 4.000e+00, 8.000e+00],\n",
              "       [1.600e+01, 3.200e+01, 6.400e+01],\n",
              "       [1.280e+02, 2.560e+02, 5.120e+02],\n",
              "       [1.024e+03, 2.048e+03, 4.096e+03]])"
            ]
          },
          "metadata": {},
          "execution_count": 9
        }
      ]
    },
    {
      "cell_type": "code",
      "source": [
        "#round/floor/ceil\n",
        "a1 = np.random.random((3,4))\n",
        "print(a1)\n",
        "print(np.ceil(a1))"
      ],
      "metadata": {
        "colab": {
          "base_uri": "https://localhost:8080/"
        },
        "id": "h3_XsSU5jRVb",
        "outputId": "f92e32ce-dd77-4624-f9c7-b8604d34e108"
      },
      "execution_count": null,
      "outputs": [
        {
          "output_type": "stream",
          "name": "stdout",
          "text": [
            "[[0.31188557 0.53155197 0.23708502 0.69965605]\n",
            " [0.03820944 0.38295116 0.52155893 0.80781428]\n",
            " [0.05362785 0.60570286 0.00914111 0.83502264]]\n",
            "[[1. 1. 1. 1.]\n",
            " [1. 1. 1. 1.]\n",
            " [1. 1. 1. 1.]]\n"
          ]
        }
      ]
    },
    {
      "cell_type": "code",
      "source": [
        "print(np.floor(a1))"
      ],
      "metadata": {
        "colab": {
          "base_uri": "https://localhost:8080/"
        },
        "id": "vXZIaYQLkEpC",
        "outputId": "818ad83b-72c2-4f40-87f8-7e40d9c172be"
      },
      "execution_count": null,
      "outputs": [
        {
          "output_type": "stream",
          "name": "stdout",
          "text": [
            "[[0. 0. 0. 0.]\n",
            " [0. 0. 0. 0.]\n",
            " [0. 0. 0. 0.]]\n"
          ]
        }
      ]
    },
    {
      "cell_type": "code",
      "source": [
        "print(np.round(a1))"
      ],
      "metadata": {
        "colab": {
          "base_uri": "https://localhost:8080/"
        },
        "id": "MlgiN7mokKUF",
        "outputId": "571cf782-c9ca-402d-c601-9a09f25674b8"
      },
      "execution_count": null,
      "outputs": [
        {
          "output_type": "stream",
          "name": "stdout",
          "text": [
            "[[0. 1. 0. 1.]\n",
            " [0. 0. 1. 1.]\n",
            " [0. 1. 0. 1.]]\n"
          ]
        }
      ]
    },
    {
      "cell_type": "markdown",
      "metadata": {
        "id": "SdKQcr7fpMra"
      },
      "source": [
        "## Indexing & Slicing"
      ]
    },
    {
      "cell_type": "code",
      "source": [
        "m1 = np.arange(10)\n",
        "m2 = np.arange(12).reshape(3,4)\n",
        "m3 = np.arange(8).reshape(2,2,2)\n",
        "print(m1)\n",
        "print(m2)\n",
        "print(m3)"
      ],
      "metadata": {
        "id": "iIVirabzpfYW",
        "colab": {
          "base_uri": "https://localhost:8080/"
        },
        "outputId": "c468b51b-ba81-46b5-f652-698a938e7070"
      },
      "execution_count": null,
      "outputs": [
        {
          "output_type": "stream",
          "name": "stdout",
          "text": [
            "[0 1 2 3 4 5 6 7 8 9]\n",
            "[[ 0  1  2  3]\n",
            " [ 4  5  6  7]\n",
            " [ 8  9 10 11]]\n",
            "[[[0 1]\n",
            "  [2 3]]\n",
            "\n",
            " [[4 5]\n",
            "  [6 7]]]\n"
          ]
        }
      ]
    },
    {
      "cell_type": "code",
      "source": [
        "#Extracting elements from arrays.\n",
        "m1[2] #index2"
      ],
      "metadata": {
        "id": "nrUcaq-xpfS_",
        "colab": {
          "base_uri": "https://localhost:8080/"
        },
        "outputId": "fc563bc5-edf3-4571-d23a-3206b76f6f85"
      },
      "execution_count": null,
      "outputs": [
        {
          "output_type": "execute_result",
          "data": {
            "text/plain": [
              "2"
            ]
          },
          "metadata": {},
          "execution_count": 21
        }
      ]
    },
    {
      "cell_type": "code",
      "source": [
        "m2[1,2] #6"
      ],
      "metadata": {
        "colab": {
          "base_uri": "https://localhost:8080/"
        },
        "id": "Yin9IyZNoxWw",
        "outputId": "31b54ce6-0a10-4c86-ce9c-0ad6737f638e"
      },
      "execution_count": null,
      "outputs": [
        {
          "output_type": "execute_result",
          "data": {
            "text/plain": [
              "6"
            ]
          },
          "metadata": {},
          "execution_count": 22
        }
      ]
    },
    {
      "cell_type": "code",
      "source": [
        "m2[2,0]"
      ],
      "metadata": {
        "colab": {
          "base_uri": "https://localhost:8080/"
        },
        "id": "xjIb6OIEo52g",
        "outputId": "32f686b4-49c4-4540-c8ef-27158030b621"
      },
      "execution_count": null,
      "outputs": [
        {
          "output_type": "execute_result",
          "data": {
            "text/plain": [
              "8"
            ]
          },
          "metadata": {},
          "execution_count": 23
        }
      ]
    },
    {
      "cell_type": "code",
      "source": [
        "print(m3)\n",
        "m3[0,0,1]"
      ],
      "metadata": {
        "colab": {
          "base_uri": "https://localhost:8080/"
        },
        "id": "iIuyrLGco5yJ",
        "outputId": "3063094d-4416-4491-dfda-a890c2bb87c1"
      },
      "execution_count": null,
      "outputs": [
        {
          "output_type": "stream",
          "name": "stdout",
          "text": [
            "[[[0 1]\n",
            "  [2 3]]\n",
            "\n",
            " [[4 5]\n",
            "  [6 7]]]\n"
          ]
        },
        {
          "output_type": "execute_result",
          "data": {
            "text/plain": [
              "1"
            ]
          },
          "metadata": {},
          "execution_count": 24
        }
      ]
    },
    {
      "cell_type": "code",
      "source": [
        "m1"
      ],
      "metadata": {
        "colab": {
          "base_uri": "https://localhost:8080/"
        },
        "id": "Y-EvDHX3o5Ov",
        "outputId": "7a7daf7b-5e1b-4b2a-c498-ad55a7e72071"
      },
      "execution_count": null,
      "outputs": [
        {
          "output_type": "execute_result",
          "data": {
            "text/plain": [
              "array([0, 1, 2, 3, 4, 5, 6, 7, 8, 9])"
            ]
          },
          "metadata": {},
          "execution_count": 27
        }
      ]
    },
    {
      "cell_type": "code",
      "source": [
        "m1[1:7:3]"
      ],
      "metadata": {
        "colab": {
          "base_uri": "https://localhost:8080/"
        },
        "id": "OWzLBpzRq0aT",
        "outputId": "41db28bb-81e8-4d32-ec23-de087d5bb23f"
      },
      "execution_count": null,
      "outputs": [
        {
          "output_type": "execute_result",
          "data": {
            "text/plain": [
              "array([1, 4])"
            ]
          },
          "metadata": {},
          "execution_count": 28
        }
      ]
    },
    {
      "cell_type": "code",
      "source": [
        "m2"
      ],
      "metadata": {
        "colab": {
          "base_uri": "https://localhost:8080/"
        },
        "id": "7_yzU_5StNik",
        "outputId": "5324d511-e6f0-49c9-f29d-caf20c3a1bfe"
      },
      "execution_count": null,
      "outputs": [
        {
          "output_type": "execute_result",
          "data": {
            "text/plain": [
              "array([[ 0,  1,  2,  3],\n",
              "       [ 4,  5,  6,  7],\n",
              "       [ 8,  9, 10, 11]])"
            ]
          },
          "metadata": {},
          "execution_count": 29
        }
      ]
    },
    {
      "cell_type": "code",
      "source": [
        "m2[0:2,0::2]"
      ],
      "metadata": {
        "colab": {
          "base_uri": "https://localhost:8080/"
        },
        "id": "JlmK4QIztPsm",
        "outputId": "b578c718-449e-4946-e7d4-ffd867da1092"
      },
      "execution_count": null,
      "outputs": [
        {
          "output_type": "execute_result",
          "data": {
            "text/plain": [
              "array([[0, 2],\n",
              "       [4, 6]])"
            ]
          },
          "metadata": {},
          "execution_count": 34
        }
      ]
    },
    {
      "cell_type": "markdown",
      "metadata": {
        "id": "Tmmp0pPvqJlU"
      },
      "source": [
        "## Iterating"
      ]
    },
    {
      "cell_type": "code",
      "source": [
        "for i in matrix2:\n",
        "  print(i)"
      ],
      "metadata": {
        "colab": {
          "base_uri": "https://localhost:8080/"
        },
        "id": "kdJf5MP9vjCY",
        "outputId": "c4618cc0-1bef-45c3-982b-53551fe7070b"
      },
      "execution_count": null,
      "outputs": [
        {
          "output_type": "stream",
          "name": "stdout",
          "text": [
            "[13 14 15 16]\n",
            "[17 18 19 20]\n",
            "[21 22 23 24]\n"
          ]
        }
      ]
    },
    {
      "cell_type": "code",
      "source": [
        "#nditer\n",
        "for i in np.nditer(matrix2):\n",
        "  print(i)"
      ],
      "metadata": {
        "colab": {
          "base_uri": "https://localhost:8080/"
        },
        "id": "c7xXaNIwvi87",
        "outputId": "d779966b-0df6-4caa-f353-83a84a88fe3a"
      },
      "execution_count": null,
      "outputs": [
        {
          "output_type": "stream",
          "name": "stdout",
          "text": [
            "13\n",
            "14\n",
            "15\n",
            "16\n",
            "17\n",
            "18\n",
            "19\n",
            "20\n",
            "21\n",
            "22\n",
            "23\n",
            "24\n"
          ]
        }
      ]
    },
    {
      "cell_type": "markdown",
      "metadata": {
        "id": "6oQIi3C5qM5-"
      },
      "source": [
        "## Reshaping"
      ]
    },
    {
      "cell_type": "code",
      "source": [
        "matrix2"
      ],
      "metadata": {
        "colab": {
          "base_uri": "https://localhost:8080/"
        },
        "id": "AmL2N4kHv909",
        "outputId": "05f28618-cccf-44dc-df47-519fae209c89"
      },
      "execution_count": null,
      "outputs": [
        {
          "output_type": "execute_result",
          "data": {
            "text/plain": [
              "array([[13, 14, 15, 16],\n",
              "       [17, 18, 19, 20],\n",
              "       [21, 22, 23, 24]])"
            ]
          },
          "metadata": {},
          "execution_count": 37
        }
      ]
    },
    {
      "cell_type": "code",
      "source": [
        "#transpose\n",
        "np.transpose(matrix2)"
      ],
      "metadata": {
        "colab": {
          "base_uri": "https://localhost:8080/"
        },
        "id": "UVDhmaxqv9vZ",
        "outputId": "d3a35545-93a0-4e40-f8c6-d127424f594a"
      },
      "execution_count": null,
      "outputs": [
        {
          "output_type": "execute_result",
          "data": {
            "text/plain": [
              "array([[13, 17, 21],\n",
              "       [14, 18, 22],\n",
              "       [15, 19, 23],\n",
              "       [16, 20, 24]])"
            ]
          },
          "metadata": {},
          "execution_count": 38
        }
      ]
    },
    {
      "cell_type": "code",
      "source": [
        "#ravel: The np.ravel function is used to flatten a\n",
        "#multi-dimensional array into a contiguous 1D array.\n",
        "np.ravel(matrix2)"
      ],
      "metadata": {
        "colab": {
          "base_uri": "https://localhost:8080/"
        },
        "id": "BtDtL-KVv9qw",
        "outputId": "39823c46-3ebe-4d94-fe7e-255df7e18859"
      },
      "execution_count": null,
      "outputs": [
        {
          "output_type": "execute_result",
          "data": {
            "text/plain": [
              "array([13, 14, 15, 16, 17, 18, 19, 20, 21, 22, 23, 24])"
            ]
          },
          "metadata": {},
          "execution_count": 39
        }
      ]
    },
    {
      "cell_type": "markdown",
      "metadata": {
        "id": "gtvPC8T9qit2"
      },
      "source": [
        "## Stacking"
      ]
    },
    {
      "cell_type": "code",
      "execution_count": null,
      "metadata": {
        "id": "xv4sSaNbqzHw",
        "colab": {
          "base_uri": "https://localhost:8080/"
        },
        "outputId": "ea5d81f1-9e55-453b-d427-bd415ab81cb4"
      },
      "outputs": [
        {
          "output_type": "execute_result",
          "data": {
            "text/plain": [
              "array([[1, 2, 3],\n",
              "       [4, 5, 6]])"
            ]
          },
          "metadata": {},
          "execution_count": 41
        }
      ],
      "source": [
        "#Stacking refers to combining multiple arrays along a new axis.\n",
        "#Vertical Stacking\n",
        "a1 = [1,2,3]\n",
        "a2 = [4,5,6]\n",
        "np.vstack((a1,a2))"
      ]
    },
    {
      "cell_type": "code",
      "source": [
        "#Horizontal Stacking\n",
        "np.hstack((a1,a2))"
      ],
      "metadata": {
        "colab": {
          "base_uri": "https://localhost:8080/"
        },
        "id": "Ls-VfOH-yVC5",
        "outputId": "bb2cdb37-3d46-48e0-9010-fe6914df4f51"
      },
      "execution_count": null,
      "outputs": [
        {
          "output_type": "execute_result",
          "data": {
            "text/plain": [
              "array([1, 2, 3, 4, 5, 6])"
            ]
          },
          "metadata": {},
          "execution_count": 42
        }
      ]
    },
    {
      "cell_type": "markdown",
      "metadata": {
        "id": "UrN8od-aqoHF"
      },
      "source": [
        "## Splitting"
      ]
    },
    {
      "cell_type": "code",
      "source": [
        "matrix1"
      ],
      "metadata": {
        "colab": {
          "base_uri": "https://localhost:8080/"
        },
        "id": "l5egTSbizvNS",
        "outputId": "80bfda6c-cac7-4efb-d8a9-0e0893619241"
      },
      "execution_count": null,
      "outputs": [
        {
          "output_type": "execute_result",
          "data": {
            "text/plain": [
              "array([[ 1,  2,  3],\n",
              "       [ 4,  5,  6],\n",
              "       [ 7,  8,  9],\n",
              "       [10, 11, 12]])"
            ]
          },
          "metadata": {},
          "execution_count": 47
        }
      ]
    },
    {
      "cell_type": "code",
      "source": [
        "#vertical\n",
        "np.vsplit(matrix1,2)"
      ],
      "metadata": {
        "colab": {
          "base_uri": "https://localhost:8080/"
        },
        "id": "c60gZ2X3ypCP",
        "outputId": "433e4800-8ef5-41ce-ecd3-39725df6da09"
      },
      "execution_count": null,
      "outputs": [
        {
          "output_type": "execute_result",
          "data": {
            "text/plain": [
              "[array([[1, 2, 3],\n",
              "        [4, 5, 6]]),\n",
              " array([[ 7,  8,  9],\n",
              "        [10, 11, 12]])]"
            ]
          },
          "metadata": {},
          "execution_count": 49
        }
      ]
    }
  ],
  "metadata": {
    "colab": {
      "provenance": []
    },
    "kernelspec": {
      "display_name": "Python 3",
      "name": "python3"
    },
    "language_info": {
      "name": "python"
    }
  },
  "nbformat": 4,
  "nbformat_minor": 0
}